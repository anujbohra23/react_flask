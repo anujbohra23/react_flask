{
 "cells": [
  {
   "cell_type": "code",
   "execution_count": 1,
   "metadata": {},
   "outputs": [],
   "source": [
    "import tensorflow as tf\n",
    "from tensorflow import keras\n",
    "from tensorflow.keras import layers"
   ]
  },
  {
   "cell_type": "code",
   "execution_count": 2,
   "metadata": {},
   "outputs": [],
   "source": [
    "model = keras.Sequential([\n",
    "    layers.Conv2D(32, (3, 3), activation='relu', input_shape=(150, 150, 3)),\n",
    "    layers.MaxPooling2D((2, 2)),\n",
    "    layers.Conv2D(64, (3, 3), activation='relu'),\n",
    "    layers.MaxPooling2D((2, 2)),\n",
    "    layers.Conv2D(128, (3, 3), activation='relu'),\n",
    "    layers.MaxPooling2D((2, 2)),\n",
    "    layers.Conv2D(128, (3, 3), activation='relu'),\n",
    "    layers.MaxPooling2D((2, 2)),\n",
    "    layers.Flatten(),\n",
    "    layers.Dense(512, activation='relu'),\n",
    "    layers.Dense(1, activation='sigmoid')\n",
    "])"
   ]
  },
  {
   "cell_type": "code",
   "execution_count": 3,
   "metadata": {},
   "outputs": [],
   "source": [
    "model.compile(optimizer = 'rmsprop',\n",
    "              loss='binary_crossentropy',\n",
    "              metrics=['accuracy'])"
   ]
  },
  {
   "cell_type": "code",
   "execution_count": 8,
   "metadata": {},
   "outputs": [
    {
     "name": "stdout",
     "output_type": "stream",
     "text": [
      "Found 30061 images belonging to 2 classes.\n"
     ]
    }
   ],
   "source": [
    "train_datagen = keras.preprocessing.image.ImageDataGenerator(rescale=1./255)\n",
    "train_generator = train_datagen.flow_from_directory(\n",
    "        r'C:\\Users\\Anuj Bohra\\Desktop\\archive (9)\\Animal Images',\n",
    "        target_size=(150, 150),\n",
    "        batch_size=20,\n",
    "        class_mode='binary')"
   ]
  },
  {
   "cell_type": "code",
   "execution_count": 9,
   "metadata": {},
   "outputs": [
    {
     "name": "stdout",
     "output_type": "stream",
     "text": [
      "Found 30061 images belonging to 2 classes.\n"
     ]
    }
   ],
   "source": [
    "validation_datagen = keras.preprocessing.image.ImageDataGenerator(rescale=1./255)\n",
    "validation_generator = validation_datagen.flow_from_directory(\n",
    "        r'C:\\Users\\Anuj Bohra\\Desktop\\archive (9)\\Animal Images',\n",
    "        target_size=(150, 150),\n",
    "        batch_size=20,\n",
    "        class_mode='binary')"
   ]
  },
  {
   "cell_type": "code",
   "execution_count": 10,
   "metadata": {},
   "outputs": [
    {
     "name": "stdout",
     "output_type": "stream",
     "text": [
      "Epoch 1/30\n",
      "100/100 [==============================] - 100s 971ms/step - loss: 0.7147 - accuracy: 0.5135 - val_loss: 0.6923 - val_accuracy: 0.5200\n",
      "Epoch 2/30\n",
      "100/100 [==============================] - 103s 1s/step - loss: 0.6953 - accuracy: 0.5175 - val_loss: 0.7126 - val_accuracy: 0.5120\n",
      "Epoch 3/30\n",
      "100/100 [==============================] - 92s 926ms/step - loss: 0.6940 - accuracy: 0.4945 - val_loss: 0.6928 - val_accuracy: 0.5340\n",
      "Epoch 4/30\n",
      "100/100 [==============================] - 95s 947ms/step - loss: 0.6919 - accuracy: 0.5375 - val_loss: 0.6763 - val_accuracy: 0.5750\n",
      "Epoch 5/30\n",
      "100/100 [==============================] - 113s 1s/step - loss: 0.6701 - accuracy: 0.5975 - val_loss: 0.6510 - val_accuracy: 0.5930\n",
      "Epoch 6/30\n",
      "100/100 [==============================] - 175s 2s/step - loss: 0.6563 - accuracy: 0.6265 - val_loss: 0.6362 - val_accuracy: 0.6520\n",
      "Epoch 7/30\n",
      "100/100 [==============================] - 171s 2s/step - loss: 0.6259 - accuracy: 0.6510 - val_loss: 0.6359 - val_accuracy: 0.6580\n",
      "Epoch 8/30\n",
      "100/100 [==============================] - 116s 1s/step - loss: 0.6324 - accuracy: 0.6475 - val_loss: 0.5880 - val_accuracy: 0.7020\n",
      "Epoch 9/30\n",
      "100/100 [==============================] - 117s 1s/step - loss: 0.6082 - accuracy: 0.6740 - val_loss: 0.5528 - val_accuracy: 0.7230\n",
      "Epoch 10/30\n",
      "100/100 [==============================] - 105s 1s/step - loss: 0.5806 - accuracy: 0.6965 - val_loss: 0.6129 - val_accuracy: 0.6620\n",
      "Epoch 11/30\n",
      "100/100 [==============================] - 103s 1s/step - loss: 0.5705 - accuracy: 0.7075 - val_loss: 0.5625 - val_accuracy: 0.7090\n",
      "Epoch 12/30\n",
      "100/100 [==============================] - 94s 936ms/step - loss: 0.5606 - accuracy: 0.7070 - val_loss: 0.6027 - val_accuracy: 0.6870\n",
      "Epoch 13/30\n",
      "100/100 [==============================] - 89s 888ms/step - loss: 0.5405 - accuracy: 0.7214 - val_loss: 0.5865 - val_accuracy: 0.7090\n",
      "Epoch 14/30\n",
      "100/100 [==============================] - 87s 869ms/step - loss: 0.5486 - accuracy: 0.7360 - val_loss: 0.5219 - val_accuracy: 0.7380\n",
      "Epoch 15/30\n",
      "100/100 [==============================] - 88s 881ms/step - loss: 0.5252 - accuracy: 0.7445 - val_loss: 0.5015 - val_accuracy: 0.7530\n",
      "Epoch 16/30\n",
      "100/100 [==============================] - 86s 862ms/step - loss: 0.5181 - accuracy: 0.7490 - val_loss: 0.5170 - val_accuracy: 0.7470\n",
      "Epoch 17/30\n",
      "100/100 [==============================] - 87s 872ms/step - loss: 0.5205 - accuracy: 0.7435 - val_loss: 0.4996 - val_accuracy: 0.7640\n",
      "Epoch 18/30\n",
      "100/100 [==============================] - 98s 976ms/step - loss: 0.5044 - accuracy: 0.7510 - val_loss: 0.4364 - val_accuracy: 0.7860\n",
      "Epoch 19/30\n",
      "100/100 [==============================] - 99s 995ms/step - loss: 0.4947 - accuracy: 0.7705 - val_loss: 0.4380 - val_accuracy: 0.7980\n",
      "Epoch 20/30\n",
      "100/100 [==============================] - 92s 923ms/step - loss: 0.4827 - accuracy: 0.7770 - val_loss: 0.4921 - val_accuracy: 0.7620\n",
      "Epoch 21/30\n",
      "100/100 [==============================] - 87s 870ms/step - loss: 0.4621 - accuracy: 0.7785 - val_loss: 0.4471 - val_accuracy: 0.7900\n",
      "Epoch 22/30\n",
      "100/100 [==============================] - 85s 849ms/step - loss: 0.4638 - accuracy: 0.7720 - val_loss: 0.5729 - val_accuracy: 0.7220\n",
      "Epoch 23/30\n",
      "100/100 [==============================] - 77s 769ms/step - loss: 0.4535 - accuracy: 0.7770 - val_loss: 0.4563 - val_accuracy: 0.7780\n",
      "Epoch 24/30\n",
      "100/100 [==============================] - 80s 799ms/step - loss: 0.4662 - accuracy: 0.7815 - val_loss: 0.5601 - val_accuracy: 0.7250\n",
      "Epoch 25/30\n",
      "100/100 [==============================] - 82s 821ms/step - loss: 0.4706 - accuracy: 0.7785 - val_loss: 0.3782 - val_accuracy: 0.8350\n",
      "Epoch 26/30\n",
      "100/100 [==============================] - 86s 857ms/step - loss: 0.4266 - accuracy: 0.8050 - val_loss: 0.3881 - val_accuracy: 0.8320\n",
      "Epoch 27/30\n",
      "100/100 [==============================] - 85s 854ms/step - loss: 0.4262 - accuracy: 0.7945 - val_loss: 0.4362 - val_accuracy: 0.7920\n",
      "Epoch 28/30\n",
      "100/100 [==============================] - 87s 874ms/step - loss: 0.4225 - accuracy: 0.8105 - val_loss: 0.3611 - val_accuracy: 0.8460\n",
      "Epoch 29/30\n",
      "100/100 [==============================] - 93s 930ms/step - loss: 0.4072 - accuracy: 0.8140 - val_loss: 0.3862 - val_accuracy: 0.8340\n",
      "Epoch 30/30\n",
      "100/100 [==============================] - 88s 881ms/step - loss: 0.4114 - accuracy: 0.8210 - val_loss: 0.4010 - val_accuracy: 0.8120\n"
     ]
    }
   ],
   "source": [
    "history = model.fit(\n",
    "      train_generator,\n",
    "      steps_per_epoch=100,\n",
    "      epochs=30,\n",
    "      validation_data=validation_generator,\n",
    "      validation_steps=50)"
   ]
  },
  {
   "cell_type": "code",
   "execution_count": 11,
   "metadata": {},
   "outputs": [
    {
     "name": "stdout",
     "output_type": "stream",
     "text": [
      "1/1 [==============================] - 0s 415ms/step\n",
      "The image is a cat.\n"
     ]
    }
   ],
   "source": [
    "import numpy as np\n",
    "from tensorflow.keras.preprocessing import image\n",
    "img_path = r\"C:\\Users\\Anuj Bohra\\Desktop\\archive (9)\\Animal Images\\cats\\_1e0be91.jpg\"\n",
    "img = image.load_img(img_path, target_size=(150, 150))\n",
    "x = image.img_to_array(img)\n",
    "x = np.expand_dims(x, axis=0)\n",
    "x /= 255\n",
    "\n",
    "# Make the prediction\n",
    "prediction = model.predict(x)\n",
    "if prediction < 0.5:\n",
    "    print(\"The image is a cat.\")\n",
    "else:\n",
    "    print(\"The image is a dog.\")\n",
    "\n",
    "# Save the model\n",
    "model.save('dogs_cat_model.h5')"
   ]
  },
  {
   "cell_type": "code",
   "execution_count": null,
   "metadata": {},
   "outputs": [],
   "source": []
  }
 ],
 "metadata": {
  "kernelspec": {
   "display_name": "anuj",
   "language": "python",
   "name": "python3"
  },
  "language_info": {
   "codemirror_mode": {
    "name": "ipython",
    "version": 3
   },
   "file_extension": ".py",
   "mimetype": "text/x-python",
   "name": "python",
   "nbconvert_exporter": "python",
   "pygments_lexer": "ipython3",
   "version": "3.7.16"
  }
 },
 "nbformat": 4,
 "nbformat_minor": 2
}
